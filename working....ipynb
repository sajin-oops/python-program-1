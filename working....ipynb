{
 "cells": [
  {
   "cell_type": "code",
   "id": "initial_id",
   "metadata": {
    "collapsed": true,
    "ExecuteTime": {
     "end_time": "2025-09-14T06:58:12.463252Z",
     "start_time": "2025-09-14T06:58:12.450335Z"
    }
   },
   "source": "print(\"Hello There\")",
   "outputs": [
    {
     "name": "stdout",
     "output_type": "stream",
     "text": [
      "Hello There\n"
     ]
    }
   ],
   "execution_count": 1
  },
  {
   "metadata": {
    "ExecuteTime": {
     "end_time": "2025-09-14T07:02:03.437667Z",
     "start_time": "2025-09-14T07:02:03.426951Z"
    }
   },
   "cell_type": "code",
   "source": [
    "my_dict = {\n",
    "    \"Name\":\"sajin\",\n",
    "    \"Age\":22\n",
    "}\n",
    "print(my_dict)\n",
    "print(my_dict[\"Name\"])\n"
   ],
   "id": "df0f1f2dd96062e8",
   "outputs": [
    {
     "name": "stdout",
     "output_type": "stream",
     "text": [
      "{'Name': 'sajin', 'Age': 22}\n",
      "sajin\n"
     ]
    }
   ],
   "execution_count": 13
  },
  {
   "metadata": {
    "ExecuteTime": {
     "end_time": "2025-09-14T07:04:38.374872Z",
     "start_time": "2025-09-14T07:04:38.363034Z"
    }
   },
   "cell_type": "code",
   "source": [
    "my_car={\n",
    "    \"Brand\":\"BMW\",\n",
    "    \"Model\":\"MV\",\n",
    "    \"Year\":1999,\n",
    "    \"Color\":\"White\",\n",
    "\n",
    "}\n",
    "\n",
    "print(my_car)"
   ],
   "id": "6455ae9e16cc52b6",
   "outputs": [
    {
     "name": "stdout",
     "output_type": "stream",
     "text": [
      "{'Brand': 'BMW', 'Model': 'MV', 'Year': 1999, 'Color': 'White'}\n"
     ]
    }
   ],
   "execution_count": 21
  },
  {
   "metadata": {},
   "cell_type": "code",
   "outputs": [],
   "execution_count": null,
   "source": "",
   "id": "bd6ed6d402967ee"
  }
 ],
 "metadata": {
  "kernelspec": {
   "display_name": "Python 3",
   "language": "python",
   "name": "python3"
  },
  "language_info": {
   "codemirror_mode": {
    "name": "ipython",
    "version": 2
   },
   "file_extension": ".py",
   "mimetype": "text/x-python",
   "name": "python",
   "nbconvert_exporter": "python",
   "pygments_lexer": "ipython2",
   "version": "2.7.6"
  }
 },
 "nbformat": 4,
 "nbformat_minor": 5
}
