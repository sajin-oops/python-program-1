{
 "cells": [
  {
   "metadata": {
    "ExecuteTime": {
     "end_time": "2025-08-17T07:26:26.798515Z",
     "start_time": "2025-08-17T07:26:25.665443Z"
    }
   },
   "cell_type": "code",
   "source": [
    "import pandas as pd\n",
    "data = {\n",
    "    'Region':['North','South','North','West','South'],\n",
    "    'Sales':[100,200,708,200,550]\n",
    "}\n",
    "df = pd.DataFrame(data)\n",
    "regional_sales = df.groupby('Region')['Sales'].sum()\n",
    "print(regional_sales)"
   ],
   "id": "b8311d6c627fbbfd",
   "outputs": [
    {
     "name": "stdout",
     "output_type": "stream",
     "text": [
      "Region\n",
      "North    808\n",
      "South    750\n",
      "West     200\n",
      "Name: Sales, dtype: int64\n"
     ]
    }
   ],
   "execution_count": 1
  },
  {
   "metadata": {},
   "cell_type": "code",
   "outputs": [],
   "execution_count": null,
   "source": "",
   "id": "a780bbdef7a73d38"
  }
 ],
 "metadata": {
  "kernelspec": {
   "display_name": "Python 3 (ipykernel)",
   "language": "python",
   "name": "python3"
  },
  "language_info": {
   "codemirror_mode": {
    "name": "ipython",
    "version": 3
   },
   "file_extension": ".py",
   "mimetype": "text/x-python",
   "name": "python",
   "nbconvert_exporter": "python",
   "pygments_lexer": "ipython3",
   "version": "3.13.5"
  }
 },
 "nbformat": 4,
 "nbformat_minor": 5
}
