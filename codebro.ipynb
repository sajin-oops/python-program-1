{
 "cells": [
  {
   "metadata": {
    "ExecuteTime": {
     "end_time": "2025-08-07T16:48:14.416687Z",
     "start_time": "2025-08-07T16:48:05.978672Z"
    }
   },
   "cell_type": "code",
   "source": "pip install youtube_transcript_api",
   "id": "bb1b374a6ad41ecc",
   "outputs": [
    {
     "name": "stdout",
     "output_type": "stream",
     "text": [
      "Requirement already satisfied: youtube_transcript_api in d:\\sajin\\.venv\\lib\\site-packages (1.2.2)\n",
      "Requirement already satisfied: defusedxml<0.8.0,>=0.7.1 in d:\\sajin\\.venv\\lib\\site-packages (from youtube_transcript_api) (0.7.1)\n",
      "Requirement already satisfied: requests in d:\\sajin\\.venv\\lib\\site-packages (from youtube_transcript_api) (2.32.4)\n",
      "Requirement already satisfied: charset_normalizer<4,>=2 in d:\\sajin\\.venv\\lib\\site-packages (from requests->youtube_transcript_api) (3.4.2)\n",
      "Requirement already satisfied: idna<4,>=2.5 in d:\\sajin\\.venv\\lib\\site-packages (from requests->youtube_transcript_api) (3.10)\n",
      "Requirement already satisfied: urllib3<3,>=1.21.1 in d:\\sajin\\.venv\\lib\\site-packages (from requests->youtube_transcript_api) (2.5.0)\n",
      "Requirement already satisfied: certifi>=2017.4.17 in d:\\sajin\\.venv\\lib\\site-packages (from requests->youtube_transcript_api) (2025.8.3)\n",
      "Note: you may need to restart the kernel to use updated packages.\n"
     ]
    }
   ],
   "execution_count": 23
  },
  {
   "metadata": {
    "jupyter": {
     "is_executing": true
    },
    "ExecuteTime": {
     "start_time": "2025-08-07T17:23:40.425760Z"
    }
   },
   "cell_type": "code",
   "source": "pip install rpunct",
   "id": "8f60f8acbd9fbf73",
   "outputs": [],
   "execution_count": null
  },
  {
   "metadata": {
    "ExecuteTime": {
     "end_time": "2025-08-07T16:48:50.823740Z",
     "start_time": "2025-08-07T16:48:50.812267Z"
    }
   },
   "cell_type": "code",
   "source": "from youtube_transcript_api import YouTubeTranscriptApi",
   "id": "b680b8bb228745cb",
   "outputs": [],
   "execution_count": 24
  },
  {
   "metadata": {
    "ExecuteTime": {
     "end_time": "2025-08-07T16:49:10.162812Z",
     "start_time": "2025-08-07T16:49:10.151654Z"
    }
   },
   "cell_type": "code",
   "source": [
    "def get_video_id(url_link):\n",
    "    return url_link.spalit(\"watch?v=\")[-1]"
   ],
   "id": "7dd2c799b4154b53",
   "outputs": [],
   "execution_count": 25
  },
  {
   "metadata": {
    "ExecuteTime": {
     "end_time": "2025-08-07T16:50:56.349181Z",
     "start_time": "2025-08-07T16:50:56.296067Z"
    }
   },
   "cell_type": "code",
   "source": "video_id = get_video_id(\"https://www.youtube.com/watch?v=ELGjEHefi4w\")",
   "id": "51936d5ef0cfa816",
   "outputs": [],
   "execution_count": 26
  },
  {
   "metadata": {
    "ExecuteTime": {
     "end_time": "2025-08-07T16:51:52.623187Z",
     "start_time": "2025-08-07T16:51:52.396337Z"
    }
   },
   "cell_type": "code",
   "source": "transcript = YouTubeTranscriptApi.get_transcript(video_id)",
   "id": "dfdf5eb23efed0d7",
   "outputs": [
    {
     "ename": "AttributeError",
     "evalue": "type object 'YouTubeTranscriptApi' has no attribute 'get_transcript'",
     "output_type": "error",
     "traceback": [
      "\u001B[31m---------------------------------------------------------------------------\u001B[39m",
      "\u001B[31mAttributeError\u001B[39m                            Traceback (most recent call last)",
      "\u001B[36mCell\u001B[39m\u001B[36m \u001B[39m\u001B[32mIn[27]\u001B[39m\u001B[32m, line 1\u001B[39m\n\u001B[32m----> \u001B[39m\u001B[32m1\u001B[39m transcript = \u001B[43mYouTubeTranscriptApi\u001B[49m\u001B[43m.\u001B[49m\u001B[43mget_transcript\u001B[49m(video_id)\n",
      "\u001B[31mAttributeError\u001B[39m: type object 'YouTubeTranscriptApi' has no attribute 'get_transcript'"
     ]
    }
   ],
   "execution_count": 27
  },
  {
   "metadata": {
    "ExecuteTime": {
     "end_time": "2025-08-07T16:55:30.704140Z",
     "start_time": "2025-08-07T16:55:27.094588Z"
    }
   },
   "cell_type": "code",
   "source": "pip show youtube-transcript-api",
   "id": "f1c2f8e87d8415b3",
   "outputs": [
    {
     "name": "stdout",
     "output_type": "stream",
     "text": [
      "Name: youtube-transcript-api\n",
      "Version: 1.2.2\n",
      "Summary: This is an python API which allows you to get the transcripts/subtitles for a given YouTube video. It also works for automatically generated subtitles, supports translating subtitles and it does not require a headless browser, like other selenium based solutions do!\n",
      "Home-page: https://github.com/jdepoix/youtube-transcript-api\n",
      "Author: Jonas Depoix\n",
      "Author-email: jonas.depoix@web.de\n",
      "License: MIT\n",
      "Location: D:\\Sajin\\.venv\\Lib\\site-packages\n",
      "Requires: defusedxml, requests\n",
      "Required-by: \n",
      "Note: you may need to restart the kernel to use updated packages.\n"
     ]
    }
   ],
   "execution_count": 29
  },
  {
   "metadata": {
    "ExecuteTime": {
     "end_time": "2025-08-07T16:56:33.273176Z",
     "start_time": "2025-08-07T16:56:25.446936Z"
    }
   },
   "cell_type": "code",
   "source": "pip install --upgrade youtube-transcript_api",
   "id": "9efc0ab2f10197bc",
   "outputs": [
    {
     "name": "stdout",
     "output_type": "stream",
     "text": [
      "Requirement already satisfied: youtube-transcript_api in d:\\sajin\\.venv\\lib\\site-packages (1.2.2)\n",
      "Requirement already satisfied: defusedxml<0.8.0,>=0.7.1 in d:\\sajin\\.venv\\lib\\site-packages (from youtube-transcript_api) (0.7.1)\n",
      "Requirement already satisfied: requests in d:\\sajin\\.venv\\lib\\site-packages (from youtube-transcript_api) (2.32.4)\n",
      "Requirement already satisfied: charset_normalizer<4,>=2 in d:\\sajin\\.venv\\lib\\site-packages (from requests->youtube-transcript_api) (3.4.2)\n",
      "Requirement already satisfied: idna<4,>=2.5 in d:\\sajin\\.venv\\lib\\site-packages (from requests->youtube-transcript_api) (3.10)\n",
      "Requirement already satisfied: urllib3<3,>=1.21.1 in d:\\sajin\\.venv\\lib\\site-packages (from requests->youtube-transcript_api) (2.5.0)\n",
      "Requirement already satisfied: certifi>=2017.4.17 in d:\\sajin\\.venv\\lib\\site-packages (from requests->youtube-transcript_api) (2025.8.3)\n",
      "Note: you may need to restart the kernel to use updated packages.\n"
     ]
    }
   ],
   "execution_count": 30
  },
  {
   "metadata": {
    "ExecuteTime": {
     "end_time": "2025-08-07T16:56:36.090650Z",
     "start_time": "2025-08-07T16:56:35.990359Z"
    }
   },
   "cell_type": "code",
   "source": [
    "from youtube_transcript_api import YouTubeTranscriptApi\n",
    "\n",
    "def get_video_id(url_link):\n",
    "    return url_link.split(\"v=\")[-1]\n",
    "\n",
    "video_id = get_video_id(\"https://www.youtube.com/watch?v=ELGjEHefi4w\")\n",
    "transcript = YouTubeTranscriptApi.get_transcript(video_id)\n",
    "\n",
    "print(transcript)"
   ],
   "id": "2e9c0adbb5490b7c",
   "outputs": [
    {
     "ename": "AttributeError",
     "evalue": "type object 'YouTubeTranscriptApi' has no attribute 'get_transcript'",
     "output_type": "error",
     "traceback": [
      "\u001B[31m---------------------------------------------------------------------------\u001B[39m",
      "\u001B[31mAttributeError\u001B[39m                            Traceback (most recent call last)",
      "\u001B[36mCell\u001B[39m\u001B[36m \u001B[39m\u001B[32mIn[31]\u001B[39m\u001B[32m, line 7\u001B[39m\n\u001B[32m      4\u001B[39m     \u001B[38;5;28;01mreturn\u001B[39;00m url_link.split(\u001B[33m\"\u001B[39m\u001B[33mv=\u001B[39m\u001B[33m\"\u001B[39m)[-\u001B[32m1\u001B[39m]\n\u001B[32m      6\u001B[39m video_id = get_video_id(\u001B[33m\"\u001B[39m\u001B[33mhttps://www.youtube.com/watch?v=ELGjEHefi4w\u001B[39m\u001B[33m\"\u001B[39m)\n\u001B[32m----> \u001B[39m\u001B[32m7\u001B[39m transcript = \u001B[43mYouTubeTranscriptApi\u001B[49m\u001B[43m.\u001B[49m\u001B[43mget_transcript\u001B[49m(video_id)\n\u001B[32m      9\u001B[39m \u001B[38;5;28mprint\u001B[39m(transcript)\n",
      "\u001B[31mAttributeError\u001B[39m: type object 'YouTubeTranscriptApi' has no attribute 'get_transcript'"
     ]
    }
   ],
   "execution_count": 31
  },
  {
   "metadata": {
    "ExecuteTime": {
     "end_time": "2025-08-09T11:33:01.538305Z",
     "start_time": "2025-08-09T11:32:50.173002Z"
    }
   },
   "cell_type": "code",
   "source": "!pip install youtube_transcript_api",
   "id": "84343768bdd49071",
   "outputs": [
    {
     "name": "stdout",
     "output_type": "stream",
     "text": [
      "Requirement already satisfied: youtube_transcript_api in d:\\sajin\\.venv\\lib\\site-packages (1.2.2)\n",
      "Requirement already satisfied: defusedxml<0.8.0,>=0.7.1 in d:\\sajin\\.venv\\lib\\site-packages (from youtube_transcript_api) (0.7.1)\n",
      "Requirement already satisfied: requests in d:\\sajin\\.venv\\lib\\site-packages (from youtube_transcript_api) (2.32.4)\n",
      "Requirement already satisfied: charset_normalizer<4,>=2 in d:\\sajin\\.venv\\lib\\site-packages (from requests->youtube_transcript_api) (3.4.2)\n",
      "Requirement already satisfied: idna<4,>=2.5 in d:\\sajin\\.venv\\lib\\site-packages (from requests->youtube_transcript_api) (3.10)\n",
      "Requirement already satisfied: urllib3<3,>=1.21.1 in d:\\sajin\\.venv\\lib\\site-packages (from requests->youtube_transcript_api) (2.5.0)\n",
      "Requirement already satisfied: certifi>=2017.4.17 in d:\\sajin\\.venv\\lib\\site-packages (from requests->youtube_transcript_api) (2025.8.3)\n"
     ]
    }
   ],
   "execution_count": 1
  },
  {
   "metadata": {
    "ExecuteTime": {
     "end_time": "2025-08-09T11:33:28.764485Z",
     "start_time": "2025-08-09T11:33:23.678700Z"
    }
   },
   "cell_type": "code",
   "source": "!pip install --upgrade youtube_transcript_api\n",
   "id": "bbee33ea0b67cc0e",
   "outputs": [
    {
     "name": "stdout",
     "output_type": "stream",
     "text": [
      "Requirement already satisfied: youtube_transcript_api in d:\\sajin\\.venv\\lib\\site-packages (1.2.2)\n",
      "Requirement already satisfied: defusedxml<0.8.0,>=0.7.1 in d:\\sajin\\.venv\\lib\\site-packages (from youtube_transcript_api) (0.7.1)\n",
      "Requirement already satisfied: requests in d:\\sajin\\.venv\\lib\\site-packages (from youtube_transcript_api) (2.32.4)\n",
      "Requirement already satisfied: charset_normalizer<4,>=2 in d:\\sajin\\.venv\\lib\\site-packages (from requests->youtube_transcript_api) (3.4.2)\n",
      "Requirement already satisfied: idna<4,>=2.5 in d:\\sajin\\.venv\\lib\\site-packages (from requests->youtube_transcript_api) (3.10)\n",
      "Requirement already satisfied: urllib3<3,>=1.21.1 in d:\\sajin\\.venv\\lib\\site-packages (from requests->youtube_transcript_api) (2.5.0)\n",
      "Requirement already satisfied: certifi>=2017.4.17 in d:\\sajin\\.venv\\lib\\site-packages (from requests->youtube_transcript_api) (2025.8.3)\n"
     ]
    }
   ],
   "execution_count": 2
  },
  {
   "metadata": {
    "ExecuteTime": {
     "end_time": "2025-08-09T11:33:35.961603Z",
     "start_time": "2025-08-09T11:33:34.504795Z"
    }
   },
   "cell_type": "code",
   "source": "from youtube_transcript_api import YouTubeTranscriptApi",
   "id": "d12e644463f2af72",
   "outputs": [],
   "execution_count": 3
  },
  {
   "metadata": {
    "ExecuteTime": {
     "end_time": "2025-08-09T11:33:42.223432Z",
     "start_time": "2025-08-09T11:33:42.215418Z"
    }
   },
   "cell_type": "code",
   "source": [
    "def get_video_id(url_link):\n",
    "    return url_link.split(\"watch?v=\")[-1]\n"
   ],
   "id": "58d7984a1243cf3a",
   "outputs": [],
   "execution_count": 4
  },
  {
   "metadata": {
    "ExecuteTime": {
     "end_time": "2025-08-09T11:33:48.149853Z",
     "start_time": "2025-08-09T11:33:48.142722Z"
    }
   },
   "cell_type": "code",
   "source": "video_id = get_video_id(\"https://www.youtube.com/watch?v=7owOKKgT0ak&t=8s\")",
   "id": "d7d97cf57fc275ab",
   "outputs": [],
   "execution_count": 5
  },
  {
   "metadata": {
    "ExecuteTime": {
     "end_time": "2025-08-09T11:33:54.770852Z",
     "start_time": "2025-08-09T11:33:53.698991Z"
    }
   },
   "cell_type": "code",
   "source": "transcript = YouTubeTranscriptApi.get_transcript(video_id)",
   "id": "90cec2048e11051d",
   "outputs": [
    {
     "ename": "AttributeError",
     "evalue": "type object 'YouTubeTranscriptApi' has no attribute 'get_transcript'",
     "output_type": "error",
     "traceback": [
      "\u001B[31m---------------------------------------------------------------------------\u001B[39m",
      "\u001B[31mAttributeError\u001B[39m                            Traceback (most recent call last)",
      "\u001B[36mCell\u001B[39m\u001B[36m \u001B[39m\u001B[32mIn[6]\u001B[39m\u001B[32m, line 1\u001B[39m\n\u001B[32m----> \u001B[39m\u001B[32m1\u001B[39m transcript = \u001B[43mYouTubeTranscriptApi\u001B[49m\u001B[43m.\u001B[49m\u001B[43mget_transcript\u001B[49m(video_id)\n",
      "\u001B[31mAttributeError\u001B[39m: type object 'YouTubeTranscriptApi' has no attribute 'get_transcript'"
     ]
    }
   ],
   "execution_count": 6
  },
  {
   "metadata": {},
   "cell_type": "code",
   "outputs": [],
   "execution_count": null,
   "source": "",
   "id": "f4a0c992e43a1d5d"
  }
 ],
 "metadata": {
  "kernelspec": {
   "display_name": "Python 3",
   "language": "python",
   "name": "python3"
  },
  "language_info": {
   "codemirror_mode": {
    "name": "ipython",
    "version": 2
   },
   "file_extension": ".py",
   "mimetype": "text/x-python",
   "name": "python",
   "nbconvert_exporter": "python",
   "pygments_lexer": "ipython2",
   "version": "2.7.6"
  }
 },
 "nbformat": 4,
 "nbformat_minor": 5
}
